{
 "cells": [
  {
   "cell_type": "code",
   "execution_count": null,
   "metadata": {},
   "outputs": [],
   "source": [
    "#13.1 Write the current date as a string to the text file today.txt.\n",
    "from datetime import date\n",
    "today_string = date(2022, 7, 18)\n",
    "fmt = \"It's %A, %B %d, %Y\"\n",
    "today_string.strftime(fmt)"
   ]
  },
  {
   "cell_type": "code",
   "execution_count": null,
   "metadata": {},
   "outputs": [],
   "source": [
    "#13.2 Read the text file today.txt into the string today_string.\n",
    "from datetime import date\n",
    "today_string = date(2022, 7, 18)\n",
    "fmt = \"It's %A, %B %d, %Y\"\n",
    "filename = today_string.strftime(fmt) + 'today.txt'\n",
    "print(filename)"
   ]
  },
  {
   "cell_type": "code",
   "execution_count": null,
   "metadata": {},
   "outputs": [],
   "source": [
    "#13.3 Parse the date from today_string.\n",
    "import time\n",
    "fmt = \"%Y %m %d\"\n",
    "time.strptime(\"2022 07 18\", fmt)"
   ]
  },
  {
   "cell_type": "code",
   "execution_count": null,
   "metadata": {},
   "outputs": [],
   "source": [
    "#15.1 Use multiprocessing to create three separate processes. \n",
    "#Make each one wait a random number of seconds between zero and one, \n",
    "#print the current time, and then exit.\n",
    "import multiprocessing\n",
    "import time\n",
    "\n",
    "def law():\n",
    "    moment = time.time()\n",
    "    timeN = time.ctime(moment)\n",
    "    Thurgood = [\"legislative\", \"judicial\", \"executive\"]\n",
    "\n",
    "for legislative in Thurgood:\n",
    "    moment = time.time()\n",
    "    timeN = time.ctime(moment)\n",
    "    p = multiprocessing.Process(target = law, args=(\"law\",))\n",
    "    p.start()\n",
    "    time.sleep(3)\n",
    "    print(\"Change\", Thurgood, \"Laws to protect today\", timeN)"
   ]
  }
 ],
 "metadata": {
  "kernelspec": {
   "display_name": "Python 3.10.4 64-bit",
   "language": "python",
   "name": "python3"
  },
  "language_info": {
   "name": "python",
   "version": "3.10.4"
  },
  "orig_nbformat": 4,
  "vscode": {
   "interpreter": {
    "hash": "2b03afb13634ca27c3f15c314a7c4796466f880817c3eea1d92f44c87f051b9c"
   }
  }
 },
 "nbformat": 4,
 "nbformat_minor": 2
}
